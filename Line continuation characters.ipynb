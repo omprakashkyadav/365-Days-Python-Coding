{
 "cells": [
  {
   "cell_type": "code",
   "execution_count": 2,
   "id": "b71a78cd",
   "metadata": {},
   "outputs": [
    {
     "name": "stdout",
     "output_type": "stream",
     "text": [
      "learning programming language is fun and Python is very easy language\n"
     ]
    }
   ],
   "source": [
    "print(\"Learning programming language is fun and Python is very easy language\")"
   ]
  },
  {
   "cell_type": "code",
   "execution_count": 3,
   "id": "65efca32",
   "metadata": {},
   "outputs": [
    {
     "ename": "SyntaxError",
     "evalue": "EOL while scanning string literal (376431806.py, line 1)",
     "output_type": "error",
     "traceback": [
      "\u001b[1;36m  Input \u001b[1;32mIn [3]\u001b[1;36m\u001b[0m\n\u001b[1;33m    print(\"Learning programming language is fun and\u001b[0m\n\u001b[1;37m                                                   ^\u001b[0m\n\u001b[1;31mSyntaxError\u001b[0m\u001b[1;31m:\u001b[0m EOL while scanning string literal\n"
     ]
    }
   ],
   "source": [
    "print(\"Learning programming language is fun and\n",
    "python is very easy language\")"
   ]
  },
  {
   "cell_type": "code",
   "execution_count": 6,
   "id": "3270d7b8",
   "metadata": {},
   "outputs": [
    {
     "name": "stdout",
     "output_type": "stream",
     "text": [
      "Learning programming language is fun and python is very easy language\n"
     ]
    }
   ],
   "source": [
    "#In Python, a backlash ( \\ ) is a continuation character\n",
    "\n",
    "print(\"Learning programming language is fun and \\\n",
    "python is very easy language\")"
   ]
  }
 ],
 "metadata": {
  "kernelspec": {
   "display_name": "Python 3 (ipykernel)",
   "language": "python",
   "name": "python3"
  },
  "language_info": {
   "codemirror_mode": {
    "name": "ipython",
    "version": 3
   },
   "file_extension": ".py",
   "mimetype": "text/x-python",
   "name": "python",
   "nbconvert_exporter": "python",
   "pygments_lexer": "ipython3",
   "version": "3.9.12"
  }
 },
 "nbformat": 4,
 "nbformat_minor": 5
}
